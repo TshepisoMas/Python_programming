{
 "cells": [
  {
   "cell_type": "code",
   "execution_count": 29,
   "id": "fe3f61fb-fa81-4ea4-9bd3-ee7ab2afdada",
   "metadata": {},
   "outputs": [
    {
     "name": "stdout",
     "output_type": "stream",
     "text": [
      "Tshepiso Mashiane\n"
     ]
    }
   ],
   "source": [
    "print(\"Tshepiso Mashiane\")"
   ]
  },
  {
   "cell_type": "code",
   "execution_count": 38,
   "id": "311b67e5-9b7a-417c-822e-d78cf9e1d6df",
   "metadata": {
    "editable": true,
    "slideshow": {
     "slide_type": ""
    },
    "tags": []
   },
   "outputs": [
    {
     "name": "stdout",
     "output_type": "stream",
     "text": [
      "My name is Tshepi and i am 23 years of age, i love coding hence i started to actively learning phyton this year 2024. \n"
     ]
    }
   ],
   "source": [
    "Age=23\n",
    "name=\"Tshepi\"\n",
    "hobby= \"coding\"\n",
    "langueage= \"phyton\"\n",
    "year=2024\n",
    "print(f\"My name is {name} and i am {23} years of age, i love {hobby} hence i started to actively learning {langueage} this year {year}. \")"
   ]
  },
  {
   "cell_type": "raw",
   "id": "44f7ddbf-6f97-40cd-9eab-b901b9ec9b31",
   "metadata": {},
   "source": [
    "#Tuples and Lists"
   ]
  },
  {
   "cell_type": "code",
   "execution_count": 2,
   "id": "df6c4ae7-f2f4-4af7-912d-964907c1e565",
   "metadata": {},
   "outputs": [],
   "source": [
    "#Tuples\n",
    "#Tuples are an ordered sequence. \n",
    "#Tuples are expressed as comma separated elements within parentheses.\n",
    "#These are values inside the parentheses. \n",
    "#In Python, there are different types: strings, integer, float. They can all be contained in a tuple but the type of the variable is tuple. Each element of a tuple can be accessed via an index.\n",
    " \n",
    "tuple1=(\"disconut\",1,2,3.4) "
   ]
  },
  {
   "cell_type": "code",
   "execution_count": 3,
   "id": "b6f3c7f2-d04a-4d64-bbff-6500d2608ebf",
   "metadata": {},
   "outputs": [
    {
     "name": "stdout",
     "output_type": "stream",
     "text": [
      "('disconut', 1, 2, 3.4)\n"
     ]
    }
   ],
   "source": [
    "print(tuple1)"
   ]
  },
  {
   "cell_type": "code",
   "execution_count": 4,
   "id": "7e2bbbd7-a683-4e5a-bad7-27046477f85b",
   "metadata": {},
   "outputs": [
    {
     "data": {
      "text/plain": [
       "'disconut'"
      ]
     },
     "execution_count": 4,
     "metadata": {},
     "output_type": "execute_result"
    }
   ],
   "source": [
    "tuple1[0] #using indexing on tuples"
   ]
  },
  {
   "cell_type": "code",
   "execution_count": 5,
   "id": "f71ae7c1-9147-46c0-bbd6-498c9695148a",
   "metadata": {},
   "outputs": [
    {
     "data": {
      "text/plain": [
       "1"
      ]
     },
     "execution_count": 5,
     "metadata": {},
     "output_type": "execute_result"
    }
   ],
   "source": [
    "tuple1[1]"
   ]
  },
  {
   "cell_type": "code",
   "execution_count": 6,
   "id": "12e81e92-cff3-4290-bca1-2eb28989dfdc",
   "metadata": {},
   "outputs": [
    {
     "data": {
      "text/plain": [
       "tuple[2]"
      ]
     },
     "execution_count": 6,
     "metadata": {},
     "output_type": "execute_result"
    }
   ],
   "source": [
    "tuple[2]\n"
   ]
  },
  {
   "cell_type": "code",
   "execution_count": 7,
   "id": "ad34e826-0b40-4969-bbd8-c69f3cbc434c",
   "metadata": {},
   "outputs": [],
   "source": [
    "tuple2=tuple1+(\"hard rock\",20) #concatinating tuples and indexing"
   ]
  },
  {
   "cell_type": "code",
   "execution_count": 8,
   "id": "c95f1d2e-259f-49a7-af6e-eb63339c8a8d",
   "metadata": {},
   "outputs": [
    {
     "data": {
      "text/plain": [
       "'disconut'"
      ]
     },
     "execution_count": 8,
     "metadata": {},
     "output_type": "execute_result"
    }
   ],
   "source": [
    "tuple2[0] #indexing"
   ]
  },
  {
   "cell_type": "code",
   "execution_count": 9,
   "id": "be50dd80-d879-4287-87eb-e3f7af46f9de",
   "metadata": {},
   "outputs": [
    {
     "data": {
      "text/plain": [
       "'hard rock'"
      ]
     },
     "execution_count": 9,
     "metadata": {},
     "output_type": "execute_result"
    }
   ],
   "source": [
    "tuple2[4] "
   ]
  },
  {
   "cell_type": "code",
   "execution_count": 11,
   "id": "d129b7f9-816c-425b-a901-e1a33135c091",
   "metadata": {},
   "outputs": [
    {
     "data": {
      "text/plain": [
       "('disconut', 1, 2, 3.4)"
      ]
     },
     "execution_count": 11,
     "metadata": {},
     "output_type": "execute_result"
    }
   ],
   "source": [
    "tuple2[0:4] #index slicing"
   ]
  },
  {
   "cell_type": "code",
   "execution_count": 41,
   "id": "1fe2cf6f-0bb2-4b68-808a-77722cbf5835",
   "metadata": {},
   "outputs": [
    {
     "data": {
      "text/plain": [
       "('hard rock', 20)"
      ]
     },
     "execution_count": 41,
     "metadata": {},
     "output_type": "execute_result"
    }
   ],
   "source": [
    "#if we want the last two element\n",
    "tuple2[4:6] #to call out the last element in our indexing we call the index number after the index number of the last varible"
   ]
  },
  {
   "cell_type": "code",
   "execution_count": 15,
   "id": "deb28670-7094-4beb-99e2-1f1b5b7eb675",
   "metadata": {},
   "outputs": [],
   "source": [
    "#length of the tuple"
   ]
  },
  {
   "cell_type": "code",
   "execution_count": 16,
   "id": "b7fc1e2b-1006-41d8-90cb-3ed46f189656",
   "metadata": {},
   "outputs": [
    {
     "data": {
      "text/plain": [
       "6"
      ]
     },
     "execution_count": 16,
     "metadata": {},
     "output_type": "execute_result"
    }
   ],
   "source": [
    "len(tuple2)"
   ]
  },
  {
   "cell_type": "code",
   "execution_count": 17,
   "id": "29f37394-0c88-41df-8f56-ddcf4869d0b4",
   "metadata": {},
   "outputs": [],
   "source": [
    "#tuples are Immutable, meaning we can not change or manipulate them, to manipulate a tuple we need to create and new tuple"
   ]
  },
  {
   "cell_type": "code",
   "execution_count": 18,
   "id": "5aaa4ce0-da91-4700-8f04-c84941f34a8a",
   "metadata": {},
   "outputs": [],
   "source": [
    "#e.g sorting a tuple"
   ]
  },
  {
   "cell_type": "code",
   "execution_count": 60,
   "id": "e950ebfe-48c0-46b7-a104-02c6062cae29",
   "metadata": {},
   "outputs": [
    {
     "name": "stdout",
     "output_type": "stream",
     "text": [
      "[2, 5, 6, 8, 9, 10]\n"
     ]
    }
   ],
   "source": [
    "Ratings={10,9,6,5,10,8,9,6,2}\n",
    "RatingSorted= sorted(Ratings)\n",
    "print(RatingSorted)\n"
   ]
  },
  {
   "cell_type": "code",
   "execution_count": 26,
   "id": "ef3d50f2-cd15-48c2-91b6-81ac520e9024",
   "metadata": {},
   "outputs": [
    {
     "name": "stdout",
     "output_type": "stream",
     "text": [
      "65\n"
     ]
    }
   ],
   "source": [
    "# sum of all tuple values\n",
    "RatingSum=sum(Ratings)\n",
    "print(RatingSum)"
   ]
  },
  {
   "cell_type": "code",
   "execution_count": null,
   "id": "7c88ec6a-7b27-45bb-a9c1-f5a4fab19fb0",
   "metadata": {},
   "outputs": [],
   "source": [
    "#sum of three  tuple values\n",
    "RatingSumOfThreeValues= (Ratings[0]+Ratings[2]+Ratings[8]) #I dont know what i am doing here but i was trying to think outside the box. \n",
    "RatingSumOfThreeValues= sum(Ratings[0],Ratings[2],Ratings[8])# seems like the box is too big to think out of it as yet, but i am coming for you dear python\n",
    "print(RatingSumOfThreeValues)"
   ]
  },
  {
   "cell_type": "code",
   "execution_count": 28,
   "id": "3b18a7ff-e155-456e-8bc2-47c889de35f7",
   "metadata": {},
   "outputs": [
    {
     "data": {
      "text/plain": [
       "'rock'"
      ]
     },
     "execution_count": 28,
     "metadata": {},
     "output_type": "execute_result"
    }
   ],
   "source": [
    "#Tuple:Nesting\n",
    "NT=(1,2,(\"pop\",\"rock\"),(3,4),(\"disc\",(1,2)))\n",
    "NT[2][1] #choosing \"rock\" for my elements using indexing"
   ]
  },
  {
   "cell_type": "code",
   "execution_count": 57,
   "id": "0b947929-d817-41fd-a79b-70dd24b87e1a",
   "metadata": {},
   "outputs": [
    {
     "data": {
      "text/plain": [
       "(1, 2)"
      ]
     },
     "execution_count": 57,
     "metadata": {},
     "output_type": "execute_result"
    }
   ],
   "source": [
    "#let find the one and two at the end of our elements\n",
    "NT[4][1][0],NT[4][1][1]"
   ]
  },
  {
   "cell_type": "code",
   "execution_count": 58,
   "id": "2944bf79-ca92-4ee5-b61c-849633962e4b",
   "metadata": {},
   "outputs": [
    {
     "data": {
      "text/plain": [
       "('pop', 4, 'disc')"
      ]
     },
     "execution_count": 58,
     "metadata": {},
     "output_type": "execute_result"
    }
   ],
   "source": [
    "#Indexing from the nested index\n",
    "NT[2][0],NT[3][1], NT[4][0]"
   ]
  },
  {
   "cell_type": "code",
   "execution_count": 61,
   "id": "138513e9-9cef-471e-990e-03db926d23d6",
   "metadata": {},
   "outputs": [],
   "source": [
    "#List\n",
    "#lists are mutable, we can change the elements of the list without creating the new list,\n",
    "#lists can be made up of any data type, e.g string,int,etc\n",
    "#indexing and slicing still apply the same way with tuples"
   ]
  },
  {
   "cell_type": "code",
   "execution_count": 63,
   "id": "98351827-a181-4912-8a23-4a2620300944",
   "metadata": {},
   "outputs": [
    {
     "name": "stdout",
     "output_type": "stream",
     "text": [
      "['TShepiso', 23, 5.6, 'Mashiane', 100]\n"
     ]
    }
   ],
   "source": [
    " # let see if we can really manipulate the list without creating another list\n",
    "L=[\"TShepiso\",23,5.6]\n",
    "L.extend([\"Mashiane\",100])\n",
    "print(L)"
   ]
  },
  {
   "cell_type": "code",
   "execution_count": 65,
   "id": "0ede898d-2830-413e-bb0b-3e1d71bf81aa",
   "metadata": {},
   "outputs": [
    {
     "name": "stdout",
     "output_type": "stream",
     "text": [
      "['TShepiso', 23, 5.6, 'Mashiane', 100, 'T', 'T']\n"
     ]
    }
   ],
   "source": [
    "L.append(\"T\")\n",
    "print(L)"
   ]
  },
  {
   "cell_type": "code",
   "execution_count": 71,
   "id": "77637d60-1b20-48d8-8241-337884fc21f3",
   "metadata": {},
   "outputs": [
    {
     "name": "stdout",
     "output_type": "stream",
     "text": [
      "['Promise', 23, 5.6, 'Mashiane', 100, 'T', 'T']\n"
     ]
    }
   ],
   "source": [
    "#replace an element of the list\n",
    "L[0]= \"Promise\"\n",
    "print(L)"
   ]
  },
  {
   "cell_type": "code",
   "execution_count": 80,
   "id": "71a09d6e-87db-4940-82bf-823cc06958a3",
   "metadata": {},
   "outputs": [
    {
     "name": "stdout",
     "output_type": "stream",
     "text": [
      "['Promise', 23, 5.6, 'Mashiane']\n"
     ]
    }
   ],
   "source": [
    "#delete the element of the list\n",
    "del(L[4] # i notice that I cannot run thus delete function twice containing the same index number, because the element at index 5 does no longer exist\n",
    "print(L)"
   ]
  },
  {
   "cell_type": "code",
   "execution_count": 85,
   "id": "507d5620-4f3f-492a-adaa-a62d5e0ac5e7",
   "metadata": {},
   "outputs": [
    {
     "name": "stdout",
     "output_type": "stream",
     "text": [
      "['A', 'B', 'C', 'D']\n"
     ]
    }
   ],
   "source": [
    "#slit function for data manipulation\n",
    "List=[\"A,B,C,D\"]\n",
    "List=\"A,B,C,D\".split(\",\")\n",
    "print(List)"
   ]
  },
  {
   "cell_type": "code",
   "execution_count": 86,
   "id": "855878ee-f2f1-4fe8-a4d9-7ca0a01ec1ad",
   "metadata": {},
   "outputs": [],
   "source": [
    "# Aliasing"
   ]
  },
  {
   "cell_type": "code",
   "execution_count": 95,
   "id": "752ada72-b637-47f3-a355-559d81c9b1d9",
   "metadata": {},
   "outputs": [
    {
     "ename": "NameError",
     "evalue": "name 'Print' is not defined",
     "output_type": "error",
     "traceback": [
      "\u001b[0;31m---------------------------------------------------------------------------\u001b[0m",
      "\u001b[0;31mNameError\u001b[0m                                 Traceback (most recent call last)",
      "Cell \u001b[0;32mIn[95], line 4\u001b[0m\n\u001b[1;32m      2\u001b[0m L2\u001b[38;5;241m=\u001b[39mL1[:]\n\u001b[1;32m      3\u001b[0m L1[\u001b[38;5;241m0\u001b[39m]\u001b[38;5;241m=\u001b[39m\u001b[38;5;124m\"\u001b[39m\u001b[38;5;124mTshepiso\u001b[39m\u001b[38;5;124m\"\u001b[39m\n\u001b[0;32m----> 4\u001b[0m Print(L1)\n",
      "\u001b[0;31mNameError\u001b[0m: name 'Print' is not defined"
     ]
    }
   ],
   "source": [
    "L1=[\"A\",1,2]\n",
    "L2=L1[:]\n",
    "L1[0]=\"Tshepiso\"\n",
    "Print(L1)\n"
   ]
  },
  {
   "cell_type": "code",
   "execution_count": 97,
   "id": "2fda781a-efec-4a6d-91ba-9267f6099647",
   "metadata": {},
   "outputs": [
    {
     "data": {
      "text/plain": [
       "(2, 3, 4)"
      ]
     },
     "execution_count": 97,
     "metadata": {},
     "output_type": "execute_result"
    }
   ],
   "source": [
    "A=(1,2,3,4,5)\n",
    "A[1:4]"
   ]
  },
  {
   "cell_type": "code",
   "execution_count": 98,
   "id": "3381e7eb-5423-401a-a679-afe8827fe89d",
   "metadata": {},
   "outputs": [
    {
     "data": {
      "text/plain": [
       "'b'"
      ]
     },
     "execution_count": 98,
     "metadata": {},
     "output_type": "execute_result"
    }
   ],
   "source": [
    "B=[1,2,[3,'a'],[4,'b']]\n",
    "B[3][1]"
   ]
  },
  {
   "cell_type": "code",
   "execution_count": 99,
   "id": "bd9e226c-0981-4336-8b0a-5c0d5e5e831f",
   "metadata": {},
   "outputs": [
    {
     "data": {
      "text/plain": [
       "[1, 2, 3, 1, 1, 1]"
      ]
     },
     "execution_count": 99,
     "metadata": {},
     "output_type": "execute_result"
    }
   ],
   "source": [
    "[1,2,3] + [1,1,1]"
   ]
  },
  {
   "cell_type": "code",
   "execution_count": null,
   "id": "12a49eeb-2232-4363-bb87-00f87539c14f",
   "metadata": {},
   "outputs": [],
   "source": [
    "#DICTIONARIES\n",
    "#A dictionary has keys and values. \n",
    "#The key is analogous to the index. \n",
    "#They are like addresses, but they don't have to be integers.\n",
    "#They are usually characters. \n",
    "#The values are similar to the element in a list and contain information. \n",
    "#The keys are the first elements. They must be immutable and unique. \n",
    "#Each key is followed by a value separated by a colon. The values can be immutable, mutable, and duplicates.\n",
    "#Each key and value pair is separated by a comma."
   ]
  },
  {
   "cell_type": "code",
   "execution_count": null,
   "id": "8d38df72-483f-4773-a6a0-8f0e71844a10",
   "metadata": {},
   "outputs": [],
   "source": [
    "#creating Dictionaries"
   ]
  },
  {
   "cell_type": "raw",
   "id": "c0a8f7b9-e65a-48e9-9f32-ac19f69eefd6",
   "metadata": {},
   "source": [
    "\n",
    "DICT={\"a\":1,\"b\":\"Tshepi\",\"c\":[3,3,2],\"key4\":94,[1,2,4],('key5'):10}\n",
    "\n",
    "DICT[\"key1\"]"
   ]
  },
  {
   "cell_type": "code",
   "execution_count": 103,
   "id": "435dea3e-273f-494c-91f4-ba5c92c72a55",
   "metadata": {},
   "outputs": [
    {
     "ename": "NameError",
     "evalue": "name 'DICT' is not defined",
     "output_type": "error",
     "traceback": [
      "\u001b[0;31m---------------------------------------------------------------------------\u001b[0m",
      "\u001b[0;31mNameError\u001b[0m                                 Traceback (most recent call last)",
      "Cell \u001b[0;32mIn[103], line 2\u001b[0m\n\u001b[1;32m      1\u001b[0m \u001b[38;5;66;03m#adding new entry to the dictionry\u001b[39;00m\n\u001b[0;32m----> 2\u001b[0m DICT[\u001b[38;5;124m\"\u001b[39m\u001b[38;5;124mi learn dictionaries\u001b[39m\u001b[38;5;124m\"\u001b[39m]\u001b[38;5;241m=\u001b[39m\u001b[38;5;241m1\u001b[39m\n",
      "\u001b[0;31mNameError\u001b[0m: name 'DICT' is not defined"
     ]
    }
   ],
   "source": [
    "#adding new entry to the dictionry\n",
    "DICT[\"i learn dictionaries\"]=1"
   ]
  },
  {
   "cell_type": "code",
   "execution_count": null,
   "id": "d9e4090a-9fc5-458a-8a82-cfd424741fa9",
   "metadata": {},
   "outputs": [],
   "source": [
    "#deleting Dictionary\n",
    "del(DICT[\"key1\"])"
   ]
  },
  {
   "cell_type": "code",
   "execution_count": 104,
   "id": "65073e1e-ea29-4bbb-9840-b04c3883c74f",
   "metadata": {},
   "outputs": [
    {
     "ename": "NameError",
     "evalue": "name 'DICT' is not defined",
     "output_type": "error",
     "traceback": [
      "\u001b[0;31m---------------------------------------------------------------------------\u001b[0m",
      "\u001b[0;31mNameError\u001b[0m                                 Traceback (most recent call last)",
      "Cell \u001b[0;32mIn[104], line 2\u001b[0m\n\u001b[1;32m      1\u001b[0m \u001b[38;5;66;03m#verify if the element is in the dictionary\u001b[39;00m\n\u001b[0;32m----> 2\u001b[0m \u001b[38;5;124m\"\u001b[39m\u001b[38;5;124mkey2\u001b[39m\u001b[38;5;124m\"\u001b[39m \u001b[38;5;129;01min\u001b[39;00m DICT\n\u001b[1;32m      3\u001b[0m DICT\u001b[38;5;241m.\u001b[39mvalues()\n",
      "\u001b[0;31mNameError\u001b[0m: name 'DICT' is not defined"
     ]
    }
   ],
   "source": [
    "#verify if the element is in the dictionary\n",
    "\"key2\" in DICT\n",
    "DICT.values()\n"
   ]
  },
  {
   "cell_type": "code",
   "execution_count": 105,
   "id": "1186445c-c90f-4daf-9198-29cc786a9ac6",
   "metadata": {},
   "outputs": [
    {
     "data": {
      "text/plain": [
       "(4, 4, 4)"
      ]
     },
     "execution_count": 105,
     "metadata": {},
     "output_type": "execute_result"
    }
   ],
   "source": [
    "Dict={\"A\":1,\"B\":\"2\",\"C\":[3,3,3],\"D\":(4,4,4),'E':5,'F':6}\n",
    "Dict[\"D\"]"
   ]
  },
  {
   "cell_type": "code",
   "execution_count": 107,
   "id": "e152fdf3-f448-41d4-a000-7307a9505be6",
   "metadata": {},
   "outputs": [
    {
     "data": {
      "text/plain": [
       "['A', 'B', 'C', 'D', 'E', 'F']"
      ]
     },
     "execution_count": 107,
     "metadata": {},
     "output_type": "execute_result"
    }
   ],
   "source": [
    "# correct syntax to extract the keys of a dictionary as a list\n",
    "list(Dict.keys())"
   ]
  },
  {
   "cell_type": "code",
   "execution_count": 109,
   "id": "50c42acf-5995-497e-b5cc-fe211fa0b524",
   "metadata": {},
   "outputs": [
    {
     "ename": "KeyError",
     "evalue": "'A'",
     "output_type": "error",
     "traceback": [
      "\u001b[0;31m---------------------------------------------------------------------------\u001b[0m",
      "\u001b[0;31mKeyError\u001b[0m                                  Traceback (most recent call last)",
      "Cell \u001b[0;32mIn[109], line 1\u001b[0m\n\u001b[0;32m----> 1\u001b[0m \u001b[38;5;28;01mdel\u001b[39;00m(Dict[\u001b[38;5;124m\"\u001b[39m\u001b[38;5;124mA\u001b[39m\u001b[38;5;124m\"\u001b[39m])\n\u001b[1;32m      2\u001b[0m \u001b[38;5;28mprint\u001b[39m(Dict)\n",
      "\u001b[0;31mKeyError\u001b[0m: 'A'"
     ]
    }
   ],
   "source": [
    "del(Dict[\"A\"])\n",
    "print(Dict)"
   ]
  },
  {
   "cell_type": "code",
   "execution_count": null,
   "id": "8a83ec9b-ccdd-4d26-847b-ced21b4bd062",
   "metadata": {},
   "outputs": [],
   "source": []
  },
  {
   "cell_type": "code",
   "execution_count": null,
   "id": "ea4a4633-74fb-4b00-81fe-ae7544199295",
   "metadata": {},
   "outputs": [],
   "source": [
    "#SETS\n",
    "# Sets are a type of collection.\n",
    "#This means that like lists and tuples, you can input different Python types.\n",
    "#Unlike lists and tuples, they are unordered. This means sets do not record element position. \n",
    "#Sets only have unique elements. This means there is only one of a particular element in a set.\n"
   ]
  },
  {
   "cell_type": "code",
   "execution_count": 115,
   "id": "41461b9a-aa7d-4b0e-8dbb-a863d2b77704",
   "metadata": {},
   "outputs": [
    {
     "name": "stdout",
     "output_type": "stream",
     "text": [
      "{1, 2, 3, 4, 5}\n"
     ]
    }
   ],
   "source": [
    "\n",
    "#create set\n",
    "Set_1={1,2,3,4,5,5,2}\n",
    "Set_2={3,5,6,7,8}\n",
    "Lt=[\"A\",'b','c','d']\n",
    "print(Set_1)"
   ]
  },
  {
   "cell_type": "code",
   "execution_count": 116,
   "id": "406aa0bf-7a93-4e6e-bff8-45b094cee4c3",
   "metadata": {},
   "outputs": [
    {
     "name": "stdout",
     "output_type": "stream",
     "text": [
      "{'b', 'A', 'c', 'd'}\n"
     ]
    }
   ],
   "source": [
    "#type casting\n",
    "set_list=set(Lt)\n",
    "print(set_list) #Unlike lists and tuples, they are unordered"
   ]
  },
  {
   "cell_type": "code",
   "execution_count": 121,
   "id": "c64bcad3-1813-496d-bbf4-2335c3a3f8e3",
   "metadata": {},
   "outputs": [
    {
     "name": "stdout",
     "output_type": "stream",
     "text": [
      "{'a', 3, 5, 6, 7, 8, 'e', 'f'}\n"
     ]
    }
   ],
   "source": [
    "#Set operation for data manipulation\n",
    "#Add item to a set\n",
    "Set_2.add('a')\n",
    "Set_2.add('e'), Set_2.add('f')\n",
    "\n",
    "print(Set_2)"
   ]
  },
  {
   "cell_type": "code",
   "execution_count": 125,
   "id": "236c75b6-c444-4b03-9e0d-f186eaad9b33",
   "metadata": {},
   "outputs": [
    {
     "name": "stdout",
     "output_type": "stream",
     "text": [
      "{3, 5, 6, 7, 8, 'f'}\n"
     ]
    }
   ],
   "source": [
    "#remove a element from a set\n",
    "Set_2.remove('e')\n",
    "print(Set_2)"
   ]
  },
  {
   "cell_type": "code",
   "execution_count": 126,
   "id": "d11093d2-fd39-419f-8180-13ac4990e65b",
   "metadata": {},
   "outputs": [
    {
     "name": "stdout",
     "output_type": "stream",
     "text": [
      "{3, 5}\n"
     ]
    }
   ],
   "source": [
    "#intersection of two sets\n",
    "intersection_of_two_sets=Set_1&Set_2\n",
    "print(intersection_of_two_sets)"
   ]
  },
  {
   "cell_type": "code",
   "execution_count": 127,
   "id": "5f5d1a10-b14a-41e9-96cb-7b6f9c8552d6",
   "metadata": {},
   "outputs": [
    {
     "name": "stdout",
     "output_type": "stream",
     "text": [
      "{3, 5, 'b', 'A', 'c', 'd'}\n"
     ]
    }
   ],
   "source": [
    "Union_of_sets=intersection_of_two_sets.union(Lt)\n",
    "print(Union_of_sets)"
   ]
  },
  {
   "cell_type": "code",
   "execution_count": 128,
   "id": "766ece87-9b97-47ed-a68b-ebe7090fd1e7",
   "metadata": {},
   "outputs": [
    {
     "name": "stdout",
     "output_type": "stream",
     "text": [
      "True\n"
     ]
    }
   ],
   "source": [
    "subset=intersection_of_two_sets.issubset(Set_1)\n",
    "print(subset)"
   ]
  },
  {
   "cell_type": "code",
   "execution_count": 129,
   "id": "72b182cb-c193-4ac5-978e-69a5ad660811",
   "metadata": {},
   "outputs": [
    {
     "data": {
      "text/plain": [
       "False"
      ]
     },
     "execution_count": 129,
     "metadata": {},
     "output_type": "execute_result"
    }
   ],
   "source": [
    "intersection_of_two_sets.issubset(Lt)"
   ]
  },
  {
   "cell_type": "code",
   "execution_count": null,
   "id": "2b5f9c24-22ac-4929-b204-4903a265a437",
   "metadata": {
    "editable": true,
    "slideshow": {
     "slide_type": ""
    },
    "tags": []
   },
   "outputs": [],
   "source": [
    "‘a’==‘A’  \n"
   ]
  },
  {
   "cell_type": "code",
   "execution_count": null,
   "id": "9743797e-f177-4f26-a4b2-61f05224ffd8",
   "metadata": {
    "editable": true,
    "slideshow": {
     "slide_type": ""
    },
    "tags": []
   },
   "outputs": [],
   "source": []
  }
 ],
 "metadata": {
  "kernelspec": {
   "display_name": "anaconda-panel-2023.05-py310",
   "language": "python",
   "name": "conda-env-anaconda-panel-2023.05-py310-py"
  },
  "language_info": {
   "codemirror_mode": {
    "name": "ipython",
    "version": 3
   },
   "file_extension": ".py",
   "mimetype": "text/x-python",
   "name": "python",
   "nbconvert_exporter": "python",
   "pygments_lexer": "ipython3",
   "version": "3.11.5"
  }
 },
 "nbformat": 4,
 "nbformat_minor": 5
}
